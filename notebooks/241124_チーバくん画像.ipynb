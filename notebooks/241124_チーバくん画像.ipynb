{
 "cells": [
  {
   "cell_type": "code",
   "execution_count": null,
   "metadata": {},
   "outputs": [],
   "source": [
    "from pathlib import Path\n",
    "\n",
    "import cv2\n",
    "import matplotlib.pyplot as plt\n",
    "import numpy as np\n",
    "import requests"
   ]
  },
  {
   "cell_type": "markdown",
   "metadata": {},
   "source": [
    "**画像の著作権がわからないので実行結果を消して commit する。**"
   ]
  },
  {
   "cell_type": "code",
   "execution_count": null,
   "metadata": {},
   "outputs": [],
   "source": [
    "# https://www.chiibakun.jp/?pid=65459171\n",
    "DIRPATH_DATA = Path(\"../data/\")\n",
    "filepath_img = DIRPATH_DATA / \"65459171.png\"\n",
    "filepath_img"
   ]
  },
  {
   "cell_type": "code",
   "execution_count": null,
   "metadata": {},
   "outputs": [],
   "source": [
    "image = cv2.imread(filepath_img)\n",
    "image.shape"
   ]
  },
  {
   "cell_type": "code",
   "execution_count": null,
   "metadata": {},
   "outputs": [],
   "source": [
    "gray = cv2.cvtColor(image, cv2.COLOR_BGR2GRAY)\n",
    "# 二値化\n",
    "threshold = 200\n",
    "ret, binary = cv2.threshold(gray, threshold, 255, cv2.THRESH_BINARY)"
   ]
  },
  {
   "cell_type": "code",
   "execution_count": null,
   "metadata": {},
   "outputs": [],
   "source": [
    "# 輪郭検出\n",
    "contours, hierarchy = cv2.findContours(\n",
    "    binary, cv2.RETR_TREE, cv2.CHAIN_APPROX_SIMPLE\n",
    ")"
   ]
  },
  {
   "cell_type": "code",
   "execution_count": null,
   "metadata": {},
   "outputs": [],
   "source": [
    "# 輪郭だけを描画（黒色で描画）\n",
    "image_contours = cv2.cvtColor(\n",
    "    cv2.drawContours(\n",
    "        np.full(image.shape, 255, dtype=np.uint8), contours, -1, (0, 0, 0), 3\n",
    "    ),\n",
    "    cv2.COLOR_BGR2GRAY,\n",
    ")"
   ]
  },
  {
   "cell_type": "code",
   "execution_count": null,
   "metadata": {},
   "outputs": [],
   "source": [
    "# 描画\n",
    "plt.imshow(image_contours)"
   ]
  },
  {
   "cell_type": "code",
   "execution_count": null,
   "metadata": {},
   "outputs": [],
   "source": [
    "num_labels, label_image, stats, centroids = cv2.connectedComponentsWithStats(\n",
    "    image_contours\n",
    ")"
   ]
  },
  {
   "cell_type": "code",
   "execution_count": null,
   "metadata": {},
   "outputs": [],
   "source": [
    "stats  # オブジェクトのバウンディングボックス（開始点の x 座標、y 座標、幅、高さ）とオブジェクトのサイズ。"
   ]
  },
  {
   "cell_type": "code",
   "execution_count": null,
   "metadata": {},
   "outputs": [],
   "source": [
    "idx_label_chi_ba_kun = sorted(\n",
    "    range(num_labels), key=lambda idx: stats[idx][-1]\n",
    ")[::-1][2]\n",
    "image_chi_ba_kun_rough = label_image == idx_label_chi_ba_kun\n",
    "plt.imshow(image_chi_ba_kun_rough)"
   ]
  },
  {
   "cell_type": "code",
   "execution_count": null,
   "metadata": {},
   "outputs": [],
   "source": [
    "# 微調整 (うちわ分)\n",
    "image_chi_ba_kun_rough[355:, 152:] = 0\n",
    "plt.imshow(image_chi_ba_kun_rough)"
   ]
  },
  {
   "cell_type": "code",
   "execution_count": null,
   "metadata": {},
   "outputs": [],
   "source": [
    "# 輪郭検出\n",
    "contours, hierarchy = cv2.findContours(\n",
    "    image_chi_ba_kun_rough.astype(np.uint8),\n",
    "    cv2.RETR_TREE,\n",
    "    cv2.CHAIN_APPROX_SIMPLE,\n",
    ")\n",
    "\n",
    "# 輪郭だけを描画（黒色で描画）\n",
    "image_contours_2 = cv2.cvtColor(\n",
    "    cv2.drawContours(\n",
    "        np.full(image.shape, 255, dtype=np.uint8), contours, -1, (0, 0, 0), 3\n",
    "    ),\n",
    "    cv2.COLOR_BGR2GRAY,\n",
    ")"
   ]
  },
  {
   "cell_type": "code",
   "execution_count": null,
   "metadata": {},
   "outputs": [],
   "source": [
    "num_labels, label_image, stats, centroids = cv2.connectedComponentsWithStats(\n",
    "    image_contours_2\n",
    ")"
   ]
  },
  {
   "cell_type": "code",
   "execution_count": null,
   "metadata": {},
   "outputs": [],
   "source": [
    "idx_label_chi_ba_kun_only = max(\n",
    "    range(num_labels), key=lambda idx: stats[idx][-1]\n",
    ")\n",
    "image_chi_ba_kun = label_image != idx_label_chi_ba_kun_only\n",
    "plt.imshow(image_chi_ba_kun)"
   ]
  },
  {
   "cell_type": "code",
   "execution_count": null,
   "metadata": {},
   "outputs": [],
   "source": [
    "fig, ax = plt.subplots()\n",
    "mappable = ax.imshow(cv2.cvtColor(image, cv2.COLOR_BGR2RGB))\n",
    "ax.scatter(*centroids[idx_label_chi_ba_kun_only], marker=\"*\", color=\"black\")\n",
    "ax.annotate(\n",
    "    \"$G$\",\n",
    "    xy=centroids[idx_label_chi_ba_kun_only],\n",
    "    xytext=tuple(map(lambda x: x + 1, centroids[idx_label_chi_ba_kun_only])),\n",
    ")\n",
    "fig.tight_layout()"
   ]
  },
  {
   "cell_type": "code",
   "execution_count": null,
   "metadata": {},
   "outputs": [],
   "source": [
    "fig, axes = plt.subplots(\n",
    "    ncols=2, dpi=300, figsize=(6.4, 3.2), sharex=True, sharey=True\n",
    ")\n",
    "axes[0].imshow(image_chi_ba_kun)\n",
    "axes[1].imshow(cv2.cvtColor(image, cv2.COLOR_BGR2RGB))\n",
    "for ax in axes:\n",
    "    ax.scatter(\n",
    "        *centroids[idx_label_chi_ba_kun_only], marker=\"*\", color=\"black\"\n",
    "    )\n",
    "    ax.annotate(\n",
    "        \"$G$\",\n",
    "        xy=centroids[idx_label_chi_ba_kun_only],\n",
    "        xytext=tuple(\n",
    "            map(lambda x: x + 5, centroids[idx_label_chi_ba_kun_only])\n",
    "        ),\n",
    "        ha=\"left\",\n",
    "        va=\"top\",\n",
    "    )\n",
    "fig.tight_layout()"
   ]
  }
 ],
 "metadata": {
  "kernelspec": {
   "display_name": "ocv312",
   "language": "python",
   "name": "python3"
  },
  "language_info": {
   "codemirror_mode": {
    "name": "ipython",
    "version": 3
   },
   "file_extension": ".py",
   "mimetype": "text/x-python",
   "name": "python",
   "nbconvert_exporter": "python",
   "pygments_lexer": "ipython3",
   "version": "3.12.7"
  }
 },
 "nbformat": 4,
 "nbformat_minor": 2
}
